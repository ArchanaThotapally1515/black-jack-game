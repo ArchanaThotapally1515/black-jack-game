{
  "nbformat": 4,
  "nbformat_minor": 0,
  "metadata": {
    "colab": {
      "provenance": [],
      "include_colab_link": true
    },
    "kernelspec": {
      "name": "python3",
      "display_name": "Python 3"
    },
    "language_info": {
      "name": "python"
    }
  },
  "cells": [
    {
      "cell_type": "markdown",
      "metadata": {
        "id": "view-in-github",
        "colab_type": "text"
      },
      "source": [
        "<a href=\"https://colab.research.google.com/github/ArchanaThotapally1515/black-jack-game/blob/main/BlackJack_Game_Project_Week_03_archa.ipynb\" target=\"_parent\"><img src=\"https://colab.research.google.com/assets/colab-badge.svg\" alt=\"Open In Colab\"/></a>"
      ]
    },
    {
      "cell_type": "markdown",
      "source": [
        "# BlackJack Project\n",
        "\n",
        "Hint 1: Game Demo: https://games.washingtonpost.com/games/blackjack\n",
        "\n"
      ],
      "metadata": {
        "id": "gtr7bBBilyNN"
      }
    },
    {
      "cell_type": "markdown",
      "source": [
        "############### Hint 02: Our Blackjack House Rules #####################\n",
        "\n",
        "#### The deck is unlimited in size.\n",
        "#### There are no jokers.\n",
        "#### The Jack/Queen/King all count as 10.\n",
        "#### The the Ace can count as 11 or 1.\n",
        "#### Use the following list as the deck of cards:\n",
        "#### cards = [11, 2, 3, 4, 5, 6, 7, 8, 9, 10, 10, 10, 10]\n",
        "#### The cards in the list have equal probability of being drawn.\n",
        "#### Cards are not removed from the deck as they are drawn.\n",
        "#### The computer is the dealer."
      ],
      "metadata": {
        "id": "CvN5sKOpl1C-"
      }
    },
    {
      "cell_type": "markdown",
      "source": [
        "##################### Hint 03: Game Flow #####################\n",
        "\n",
        "* Deal both user and computer a starting hand of 2 random card values\n",
        "\n",
        "* Detect when computer or user has a blackjack. (Ace + 10 value card).\n",
        "\n",
        "* If computer gets blackjack, then the user loses (even if the user also has a blackjack). If the user gets a blackjack, then they win (unless the computer also has a blackjack).\n",
        "\n",
        "* Calculate the user's and computer's scores based on their card values.\n",
        "\n",
        "* If an ace is drawn, count it as 11. But if the total goes over 21, count the ace as 1 instead.\n",
        "\n",
        "* Reveal computer's first card to the user.\n",
        "\n",
        "* Game ends immediately when user score goes over 21 or if the user or computer gets a blackjack.\n",
        "\n",
        "* Ask the user if they want to get another card.\n",
        "\n",
        "* Once the user is done and no longer wants to draw any more cards, let the computer play. The computer should keep drawing cards unless their score goes over 16.\n",
        "\n",
        "* Compare user and computer scores and see if it's a win, loss, or draw.\n",
        "\n",
        "* Print out the player's and computer's final hand and their scores at the end of the game.\n",
        "\n",
        "* After the game ends, ask the user if they'd like to play again. Clear the console for a fresh start.\n",
        "\n"
      ],
      "metadata": {
        "id": "S6caP1ICng_H"
      }
    },
    {
      "cell_type": "code",
      "source": [
        "#Hint 4: Create a deal_card() function that uses the List below to *return* a random card.\n",
        "#11 is the Ace.\n",
        "#cards = [11, 2, 3, 4, 5, 6, 7, 8, 9, 10, 10, 10, 10]\n",
        "\n",
        "#Hint 5: Deal the user and computer 2 cards each using deal_card() and append().\n",
        "#user_cards = []\n",
        "#computer_cards = []\n",
        "\n",
        "#Hint 6: Create a function called calculate_score() that takes a List of cards as input\n",
        "#and returns the score.\n",
        "#Look up the sum() function to help you do this.\n",
        "\n",
        "#Hint 7: Inside calculate_score() check for a blackjack (a hand with only 2 cards: ace + 10) and\n",
        "#return 0 instead of the actual score. 0 will represent a blackjack in our game.\n",
        "\n",
        "#Hint 8: Inside calculate_score() check for an 11 (ace). If the score is already over 21,\n",
        "#remove the 11 and replace it with a 1. You might need to look up append() and remove().\n",
        "\n",
        "#Hint 9: Call calculate_score(). If the computer or the user has a blackjack (0) or\n",
        "#if the user's score is over 21, then the game ends.\n",
        "\n",
        "#Hint 10: If the game has not ended, ask the user if they want to draw another card.\n",
        "#If yes, then use the deal_card() function to add another card to the user_cards List. If no, then the game has ended.\n",
        "\n",
        "#Hint 11: The score will need to be rechecked with every new card drawn and the checks in Hint 9 need to be repeated until the game ends.\n",
        "\n",
        "#Hint 12: Once the user is done, it's time to let the computer play. The computer should keep drawing cards as long as it has a score less than 17.\n",
        "\n",
        "#Hint 13: Create a function called compare() and pass in the user_score and computer_score. If the computer and user both have the same score, then it's a draw.\n",
        "#If the computer has a blackjack (0), then the user loses. If the user has a blackjack (0), then the user wins. If the user_score is over 21, then the user loses.\n",
        "#If the computer_score is over 21, then the computer loses. If none of the above, then the player with the highest score wins.\n",
        "\n",
        "#Hint 14: Ask the user if they want to restart the game. If they answer yes, clear the console and start a new game of blackjack and show the logo from art.py."
      ],
      "metadata": {
        "id": "mYdR1jXDl0Z1"
      },
      "execution_count": null,
      "outputs": []
    },
    {
      "cell_type": "code",
      "source": [
        "import random\n",
        "\n",
        "cards = [11, 2, 3, 4, 5, 6, 7, 8, 9, 10, 10, 10, 10]\n",
        "\n",
        "def deal_card():\n",
        "    return random.choice(cards)\n",
        "\n",
        "def calculate_score(card_list):\n",
        "    if sum(card_list) == 21 and len(card_list) == 2:\n",
        "        return 0\n",
        "    if 11 in card_list and sum(card_list) > 21:\n",
        "        card_list.remove(11)\n",
        "        card_list.append(1)\n",
        "    return sum(card_list)\n",
        "\n",
        "def blackjack():\n",
        "    user_cards = []\n",
        "    computer_cards = []\n",
        "\n",
        "    for _ in range(2):\n",
        "        user_cards.append(deal_card())\n",
        "        computer_cards.append(deal_card())\n",
        "\n",
        "    game_over = False\n",
        "\n",
        "    while not game_over:\n",
        "        user_score = calculate_score(user_cards)\n",
        "        computer_score = calculate_score(computer_cards)\n",
        "\n",
        "        print(f\"Your cards: {user_cards}, current score: {user_score}\")\n",
        "        print(f\"Computer's first card: {computer_cards[0]}\")\n",
        "\n",
        "        if user_score == 0 or computer_score == 0 or user_score > 21:\n",
        "            game_over = True\n",
        "        else:\n",
        "            draw_card = input(\"Type 'y' to get another card, type 'n' to pass: \").lower()\n",
        "            if draw_card == 'y':\n",
        "                user_cards.append(deal_card())\n",
        "            else:\n",
        "                game_over = True\n",
        "\n",
        "    while computer_score != 0 and computer_score < 17:\n",
        "        computer_cards.append(deal_card())\n",
        "        computer_score = calculate_score(computer_cards)\n",
        "\n",
        "    print(f\"Your final hand: {user_cards}, final score: {user_score}\")\n",
        "    print(f\"Computer's final hand: {computer_cards}, final score: {computer_score}\")\n",
        "\n",
        "    compare(user_score, computer_score)\n",
        "\n",
        "def compare(user_score, computer_score):\n",
        "    if user_score > 21:\n",
        "        print(\"You went over. You lose.\")\n",
        "    elif computer_score > 21:\n",
        "        print(\"Computer went over. You win!\")\n",
        "    elif user_score == computer_score:\n",
        "        print(\"It's a draw.\")\n",
        "    elif user_score == 0:\n",
        "        print(\"You win with a Blackjack!\")\n",
        "    elif computer_score == 0:\n",
        "        print(\"Computer wins with a Blackjack!\")\n",
        "    elif user_score > computer_score:\n",
        "        print(\"You win!\")\n",
        "    else:\n",
        "        print(\"Computer wins.\")\n",
        "\n",
        "    play_again = input(\"Do you want to play again? Type 'y' or 'n': \").lower()\n",
        "    if play_again == 'y':\n",
        "        blackjack()\n",
        "\n",
        "blackjack()\n"
      ],
      "metadata": {
        "id": "lV9DXKwDoiz-",
        "colab": {
          "base_uri": "https://localhost:8080/"
        },
        "outputId": "ef53b555-f0fa-47e2-a752-4a4cf130fec5"
      },
      "execution_count": null,
      "outputs": [
        {
          "name": "stdout",
          "output_type": "stream",
          "text": [
            "Your cards: [5, 4], current score: 9\n",
            "Computer's first card: 5\n",
            "Type 'y' to get another card, type 'n' to pass: y\n",
            "Your cards: [5, 4, 2], current score: 11\n",
            "Computer's first card: 5\n",
            "Type 'y' to get another card, type 'n' to pass: y\n",
            "Your cards: [5, 4, 2, 1], current score: 12\n",
            "Computer's first card: 5\n",
            "Type 'y' to get another card, type 'n' to pass: y\n",
            "Your cards: [5, 4, 2, 1, 10], current score: 22\n",
            "Computer's first card: 5\n",
            "Your final hand: [5, 4, 2, 1, 10], final score: 22\n",
            "Computer's final hand: [5, 8, 1, 9], final score: 23\n",
            "You went over. You lose.\n",
            "Do you want to play again? Type 'y' or 'n': n\n"
          ]
        }
      ]
    },
    {
      "cell_type": "markdown",
      "source": [],
      "metadata": {
        "id": "ZfG7ywr1c_0E"
      }
    }
  ]
}